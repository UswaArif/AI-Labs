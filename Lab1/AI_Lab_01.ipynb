{
 "cells": [
  {
   "cell_type": "markdown",
   "metadata": {
    "id": "99uzECDycBC9"
   },
   "source": [
    "# <center>Artificial Intelligence</center>  <center>Fall 2023</center>\n",
    "## Lab 01\n",
    "#### Name: Uswa Arif\n",
    "#### Roll number: 2021-CS-77\n"
   ]
  },
  {
   "cell_type": "markdown",
   "metadata": {
    "id": "oGeXcV1ieX5k"
   },
   "source": [
    "Take weight in kgs and convert it into pounds. 1 pound = 1 kg 2.2046 **(2 marks)**"
   ]
  },
  {
   "cell_type": "code",
   "execution_count": 1,
   "metadata": {
    "id": "kLLZInc9eZX9"
   },
   "outputs": [],
   "source": [
    "## add code here\n",
    "weightKg = float(input(\"Enter weight in kilograms: \"))\n",
    "weight_pounds = weightKg * 2.2046\n",
    "print(weight_pounds)"
   ]
  },
  {
   "cell_type": "markdown",
   "metadata": {
    "id": "xLXJt74qebph"
   },
   "source": [
    "Calculate the cost of all the items in a shopping cart. **(2 marks)**"
   ]
  },
  {
   "cell_type": "code",
   "execution_count": 2,
   "metadata": {
    "id": "Pd59WwdpehIW"
   },
   "outputs": [],
   "source": [
    "prices =[20,50,80,10,56,89]\n",
    "\n",
    "sum = 0\n",
    "for i in prices:\n",
    "    sum = i + sum\n",
    "\n",
    "print(sum)\n"
   ]
  },
  {
   "cell_type": "markdown",
   "metadata": {
    "id": "EGq2J0jeeqF_"
   },
   "source": [
    "Write a function that returns the maximum of two numbers. **(2 marks)**"
   ]
  },
  {
   "cell_type": "code",
   "execution_count": 3,
   "metadata": {
    "id": "joOHP51beunx"
   },
   "outputs": [],
   "source": [
    "num1 = input(\"Enter the number 1:\")\n",
    "num2 = input(\"Enter the number 2:\")\n",
    "if num1 > num2:\n",
    "    print(\"Number 1:\", num1 , \"is greater.\")\n",
    "else:\n",
    "    print(\"Number 2:\", num2 , \"is greater.\")\n"
   ]
  },
  {
   "cell_type": "markdown",
   "metadata": {
    "id": "B8cHTHEYe1em"
   },
   "source": [
    "Write a function called **deepmind** that takes a number  **(4 marks)**\n",
    "* If the number is divisible by 3, it should return deep.\n",
    "* If it is divisible by 5, it should return mind.\n",
    "* If it is divisible by both 3 and 5, it should return deepmind.\n",
    "* Otherwise, it should return the same number.\n",
    "\n",
    "\n"
   ]
  },
  {
   "cell_type": "code",
   "execution_count": 4,
   "metadata": {
    "id": "k7r-_lhqfAtQ"
   },
   "outputs": [],
   "source": [
    "def deepmind(num):\n",
    "    if num % 3 == 0:\n",
    "        if num % 5 == 0:\n",
    "            return \"deepmind\"\n",
    "        return \"deep\"\n",
    "    elif num % 5 == 0:\n",
    "        if num % 3 == 0:\n",
    "            return \"deepmind\"\n",
    "        return \"mind\"\n",
    "    else:\n",
    "        return num\n",
    "        \n",
    "num = input(\"Enter the number: \")\n",
    "print(deepmind(int(num)))\n"
   ]
  },
  {
   "cell_type": "markdown",
   "metadata": {
    "id": "rY5K6INzcGDS"
   },
   "source": [
    "**listA** =  [1,2,3,4,5,6,7,8,9,10]  \n",
    "\n",
    "If an element of **listA** is smaller than 5, replace it with 0. And if an element of x is bigger than 5, replace it with 1. (**2 marks**)"
   ]
  },
  {
   "cell_type": "code",
   "execution_count": 5,
   "metadata": {
    "id": "qEAtvmNycFsQ"
   },
   "outputs": [],
   "source": [
    "## add code here\n",
    "new_listA = [0 if x < 5 else 1 for x in listA]\n",
    "\n",
    "print(new_listA)"
   ]
  },
  {
   "cell_type": "markdown",
   "metadata": {
    "id": "m5tWGbKxcIug"
   },
   "source": [
    "Compute the square of **listA** elements in one line. (**2 marks**)\n"
   ]
  },
  {
   "cell_type": "code",
   "execution_count": 6,
   "metadata": {
    "id": "ajneZNrXcL0A"
   },
   "outputs": [],
   "source": [
    "listA = [1,2,3,4,5,6,7,8,9,10]\n",
    "\n",
    "squared_list = [x**2 for x in listA]\n",
    "\n",
    "print(squared_list)\n",
    "\n"
   ]
  },
  {
   "cell_type": "markdown",
   "metadata": {
    "id": "vPO_Yx8BcL-Q"
   },
   "source": [
    "Concatenate b1 and b2. (**2 marks**)"
   ]
  },
  {
   "cell_type": "code",
   "execution_count": 7,
   "metadata": {
    "id": "BREFhCCbcPGw"
   },
   "outputs": [],
   "source": [
    "b1 = ['Hello', 'in','first']\n",
    "b2 = ['Students','the','recitation']\n",
    "b3 = b1 + b2\n",
    "print(b3)"
   ]
  },
  {
   "cell_type": "markdown",
   "metadata": {
    "id": "ri-m2ia5chLO"
   },
   "source": [
    "Create a dictionary of student **Ali** where the keys are courses and values are total and obtaining marks in each course. Print the dictionary items subjects wise **(2 marks)**"
   ]
  },
  {
   "cell_type": "code",
   "execution_count": 8,
   "metadata": {
    "id": "m8FMBIGbchwa"
   },
   "outputs": [],
   "source": [
    "Ali = {\n",
    "    \"Mathematics\": {\"totalmarks\": 100, \"Obtained\": 85},\n",
    "    \"Science\": {\"totalmarks\": 100, \"Obtained\": 90},\n",
    "    \"English\": {\"totalmarks\": 100, \"Obtained\": 78},\n",
    "    \"History\": {\"totalmarks\": 100, \"Obtained\": 92},\n",
    "    \"Computer Science\": {\"totalmarks\": 100, \"Obtained\": 88}\n",
    "}\n",
    "\n",
    "# Print the dictionary items subject-wise\n",
    "for subject, marks in Ali.items():\n",
    "    print(\"Subject: {subject}\")\n",
    "    print(\"Total Marks: {marks['totalmarks']}\")\n",
    "    print(\"Obtained Marks: {marks['Obtained']}\")\n",
    "    print(Ali)\n"
   ]
  },
  {
   "cell_type": "markdown",
   "metadata": {
    "id": "ZylTcdsIclSP"
   },
   "source": [
    "Create a class 'calculator' with the following functions to compute i) addition, ii) subtraction, iii)multiplication, iv)division and v)square\n",
    "between two numbers. **(2 marks)**"
   ]
  },
  {
   "cell_type": "code",
   "execution_count": 9,
   "metadata": {
    "id": "SX_v-PbuclrV"
   },
   "outputs": [],
   "source": [
    "class Calculator:\n",
    "    def add(self, num1, num2):\n",
    "        return num1 + num2\n",
    "\n",
    "    def subtract(self, num1, num2):\n",
    "        return num1 - num2\n",
    "\n",
    "    def multiply(self, num1, num2):\n",
    "        return num1 * num2\n",
    "\n",
    "    def divide(self, num1, num2):\n",
    "        if num2 == 0:\n",
    "            return \"Cannot divide by zero\"\n",
    "        return num1 / num2\n",
    "\n",
    "    def square(self, num):\n",
    "        return num * num\n",
    "\n",
    "\n",
    "cal = Calculator()\n",
    "\n",
    "result_add = cal.add(5, 3)\n",
    "print(\"Addition:\", result_add)\n",
    "\n",
    "result_subtract = cal.subtract(10, 4)\n",
    "print(\"Subtraction:\", result_subtract)\n",
    "\n",
    "result_multiply = cal.multiply(6, 7)\n",
    "print(\"Multiplication:\", result_multiply)\n",
    "\n",
    "result_divide = cal.divide(8, 2)\n",
    "print(\"Division:\", result_divide)\n",
    "\n",
    "result_square = cal.square(9)\n",
    "print(\"Square:\", result_square)\n",
    "\n"
   ]
  }
 ],
 "metadata": {
  "colab": {
   "provenance": []
  },
  "kernelspec": {
   "display_name": "Python 3 (ipykernel)",
   "language": "python",
   "name": "python3"
  },
  "language_info": {
   "codemirror_mode": {
    "name": "ipython",
    "version": 3
   },
   "file_extension": ".py",
   "mimetype": "text/x-python",
   "name": "python",
   "nbconvert_exporter": "python",
   "pygments_lexer": "ipython3",
   "version": "3.9.7"
  }
 },
 "nbformat": 4,
 "nbformat_minor": 1
}
